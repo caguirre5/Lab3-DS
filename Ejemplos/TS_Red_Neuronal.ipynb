{
 "cells": [
  {
   "cell_type": "markdown",
   "metadata": {
    "tags": []
   },
   "source": [
    "### Uso de Red Neuronal para trabajar Series de Tiempo"
   ]
  },
  {
   "cell_type": "code",
   "execution_count": null,
   "metadata": {},
   "outputs": [],
   "source": [
    "from math import sqrt\n",
    "from numpy import array\n",
    "from numpy import mean\n",
    "from numpy import std\n",
    "from pandas import DataFrame\n",
    "from pandas import concat\n",
    "from pandas import read_csv\n",
    "from sklearn.metrics import mean_squared_error\n",
    "import tensorflow as tf\n",
    "from matplotlib import pyplot\n",
    "%matplotlib inline  \n",
    "import numpy as np\n",
    "import pandas as pd\n",
    "import matplotlib.pyplot as plt"
   ]
  },
  {
   "cell_type": "markdown",
   "metadata": {},
   "source": [
    "## Funciones"
   ]
  },
  {
   "cell_type": "code",
   "execution_count": null,
   "metadata": {},
   "outputs": [],
   "source": [
    "# split a univariate dataset into train/test sets\n",
    "def division_entreno_prueba(datos, n_prueba):\n",
    "    return datos[:-n_prueba], datos[-n_prueba:]"
   ]
  },
  {
   "cell_type": "markdown",
   "metadata": {
    "tags": []
   },
   "source": [
    "Para la entrada de datos, a la red, es necesario transformarlos de una lista o serie, a un formato adecuado para el aprendizaje supervisado"
   ]
  },
  {
   "cell_type": "code",
   "execution_count": null,
   "metadata": {},
   "outputs": [],
   "source": [
    "def series_a_supervisado(datos, n_entrada, n_salida = 1):\n",
    "\tdf = DataFrame(datos)\n",
    "\tcols = []\n",
    "\t# secuencia de entrada (t-n, ... t-1)\n",
    "\tfor i in range(n_entrada, 0, -1):\n",
    "\t\tcols.append(df.shift(i))\n",
    "\t# secuencia predicha (t, t+1, ... t+n)\n",
    "\tfor i in range(0, n_salida):\n",
    "\t\tcols.append(df.shift(-i))\n",
    "\t# juntarlo todo\n",
    "\tagg = concat(cols, axis = 1)\n",
    "\t# botar columnas con valores NaN\n",
    "\tagg.dropna(inplace = True)\n",
    "\treturn agg.values"
   ]
  },
  {
   "cell_type": "markdown",
   "metadata": {},
   "source": [
    "Obtener el valor de la raiz cuadrada de la media de los errores al cuadrado RMSE"
   ]
  },
  {
   "cell_type": "code",
   "execution_count": null,
   "metadata": {},
   "outputs": [],
   "source": [
    "def medir_rmse(actual, predicho):\n",
    "\treturn sqrt(mean_squared_error(actual, predicho))"
   ]
  },
  {
   "cell_type": "markdown",
   "metadata": {},
   "source": [
    "Ajustar los datos al modelo"
   ]
  },
  {
   "cell_type": "code",
   "execution_count": null,
   "metadata": {},
   "outputs": [],
   "source": [
    "def ajustar_modelo(entreno, config):\n",
    "\t# desempacar la configuración\n",
    "\tn_entrada, n_nodos, n_epocas, n_tandas = config\n",
    "    #[24, 500, 100, 100]\n",
    "    # preparar los datos\n",
    "\tdatos = series_a_supervisado(entreno, n_entrada)\n",
    "\tentreno_x, entreno_y = datos[:, :-1], datos[:, -1]\n",
    "\t# definir el modelo\n",
    "\tmodelo = tf.keras.Sequential()\n",
    "\tmodelo.add(tf.keras.layers.Dense(n_nodos, activation='relu', input_dim = n_entrada))\n",
    "\tmodelo.add(tf.keras.layers.Dense(1))\n",
    "\tmodelo.compile(loss='mse', optimizer='adam')\n",
    "\t# ajustar\n",
    "\tmodelo.fit(entreno_x, entreno_y, epochs = n_epocas, batch_size = n_tandas, verbose = 0)\n",
    "\treturn modelo"
   ]
  },
  {
   "cell_type": "markdown",
   "metadata": {},
   "source": [
    "Predecir con un modelo ya ajustado"
   ]
  },
  {
   "cell_type": "code",
   "execution_count": null,
   "metadata": {},
   "outputs": [],
   "source": [
    "def prediccion_modelo(modelo, historia, config):\n",
    "\t# desempacar la configuración\n",
    "\tn_entrada, _, _, _ = config\n",
    "\t# preparar los datos\n",
    "\tx_entrada = array(historia[-n_entrada:]).reshape(1, n_entrada)\n",
    "\t# predecir\n",
    "\tyhat = modelo.predict(x_entrada, verbose = 0)\n",
    "\treturn yhat[0]"
   ]
  },
  {
   "cell_type": "markdown",
   "metadata": {},
   "source": [
    "Validación hacia el frente para datos unviariados"
   ]
  },
  {
   "cell_type": "code",
   "execution_count": null,
   "metadata": {},
   "outputs": [],
   "source": [
    "def validacion_al_frente(datos, n_prueba, cfg):\n",
    "    predicciones = []\n",
    "    # dividir el conjunto de datos\n",
    "    entreno, prueba = division_entreno_prueba(datos, n_prueba)\n",
    "    # ajustar el modelo\n",
    "    modelo = ajustar_modelo(entreno, cfg)\n",
    "    # grabar la historia con el conjunto de datos de entrenamiento\n",
    "    historia = [x for x in entreno]\n",
    "    # pasar por cada incremento de tiempo en el conjunto de prueba\n",
    "    for i in range(len(prueba)):\n",
    "        # ajustar el modelo a los datos y predecir los datos históricos\n",
    "        yhat = prediccion_modelo(modelo, historia, cfg)\n",
    "        # agregar el dato predicho en la lista de preducciones\n",
    "        predicciones.append(yhat)\n",
    "        # agregar la observación a la historia para la siguiente iteración\n",
    "        historia.append(prueba[i])\n",
    "    # estimar el error de las predicciones\n",
    "    error = medir_rmse(prueba, predicciones)\n",
    "    print(f' > {error:.3f}')\n",
    "    return [error, predicciones]"
   ]
  },
  {
   "cell_type": "markdown",
   "metadata": {},
   "source": [
    "Evaluación iterativa de una configuraciñon"
   ]
  },
  {
   "cell_type": "code",
   "execution_count": null,
   "metadata": {},
   "outputs": [],
   "source": [
    " def evaluacion_iter(datos, config, n_prueba, n_repeticiones = 5):\n",
    "\t# ajustar y evaluar el modelo n veces\n",
    "    resultados = []\n",
    "    predicciones = []\n",
    "    for _ in range(n_repeticiones):\n",
    "        resultados_temp, predicciones_temp = validacion_al_frente(datos, n_prueba, config)\n",
    "        resultados.append(resultados_temp)\n",
    "        predicciones.append(predicciones_temp)\n",
    "    return [resultados, predicciones]"
   ]
  },
  {
   "cell_type": "markdown",
   "metadata": {},
   "source": [
    "Resumir el rendimiento del modelo"
   ]
  },
  {
   "cell_type": "code",
   "execution_count": null,
   "metadata": {},
   "outputs": [],
   "source": [
    "def resumir_resultados(nombre, resultados):\n",
    "\t# imprimir un resúmen\n",
    "\tmedia_result, std_result = mean(resultados), std(resultados)\n",
    "\tprint(f'{nombre}: {media_result:.3f} RMSE (+/- {std_result:.3f})')\n",
    "\t# gráficas de caja y bigotes\n",
    "\tpyplot.boxplot(resultados)\n",
    "\tpyplot.show()"
   ]
  },
  {
   "cell_type": "markdown",
   "metadata": {},
   "source": [
    "Encontrar la mejor solución"
   ]
  },
  {
   "cell_type": "code",
   "execution_count": null,
   "metadata": {},
   "outputs": [],
   "source": [
    "def buscar_mejor_solucion(series, nombre, metodo = \"red neuronal\"):\n",
    "    datos = series.values\n",
    "    n_prueba = int(len(datos)*0.2) # porcentaje utilizado para prueba\n",
    "    config = [24, 500, 100, 100]\n",
    "    resultados, predicciones = evaluacion_iter(datos, config, n_prueba)\n",
    "    resumir_resultados('mlp', resultados)\n",
    "    plt.savefig(\"resultados_{nombre}_{metodo}.png\")\n",
    "    plt.show()\n",
    "    entreno, prueba = division_entreno_prueba(datos,n_prueba)\n",
    "    prediccion = pd.DataFrame(list(entreno.flatten()) + np.array(predicciones[0]).flatten().tolist())\n",
    "    ax = pd.DataFrame(datos).plot(label=\"Original\") # datos originales\n",
    "    prediccion.plot(ax=ax, alpha=.7, figsize=(14,7))\n",
    "    plt.savefig(\"pred_{nombre}_{metodo}.png\")\n",
    "    plt.show()"
   ]
  },
  {
   "cell_type": "markdown",
   "metadata": {},
   "source": [
    "# Nacimiento Niñas"
   ]
  },
  {
   "cell_type": "code",
   "execution_count": null,
   "metadata": {},
   "outputs": [],
   "source": [
    "series = pd.read_csv('daily-total-female-births.csv', header=0,index_col=0)\n",
    "buscar_mejor_solucion(series,\"nacimientos\")"
   ]
  },
  {
   "cell_type": "markdown",
   "metadata": {},
   "source": [
    "# Ventas Shampoo"
   ]
  },
  {
   "cell_type": "code",
   "execution_count": null,
   "metadata": {},
   "outputs": [],
   "source": [
    "series = pd.read_csv('shampoo.csv', header=0, index_col=0)\n",
    "buscar_mejor_solucion(series,\"shampoo\")"
   ]
  },
  {
   "cell_type": "markdown",
   "metadata": {},
   "source": [
    "# Temperaturas"
   ]
  },
  {
   "cell_type": "code",
   "execution_count": null,
   "metadata": {},
   "outputs": [],
   "source": [
    "series = pd.read_csv('monthly-mean-temp.csv', header=0,parse_dates=[\"Month\"],index_col=0)\n",
    "buscar_mejor_solucion(series,\"temp\")"
   ]
  },
  {
   "cell_type": "markdown",
   "metadata": {},
   "source": [
    "# Venta de carros"
   ]
  },
  {
   "cell_type": "code",
   "execution_count": null,
   "metadata": {},
   "outputs": [],
   "source": [
    "series = read_csv('monthly-car-sales.csv', header=0, index_col=0)\n",
    "buscar_mejor_solucion(series,\"carros\")"
   ]
  },
  {
   "cell_type": "markdown",
   "metadata": {},
   "source": [
    "### Podríamos tratar de usar otra configuruación de entrada, por ejemplo un año (12 meses)"
   ]
  },
  {
   "cell_type": "code",
   "execution_count": null,
   "metadata": {},
   "outputs": [],
   "source": [
    "series = read_csv('monthly-car-sales.csv', header=0, index_col=0)\n",
    "datos = series.values\n",
    "# división de datos\n",
    "n_prueba = int(len(datos) * 0.2) # porcentaje utilizao para prueba\n",
    "\n",
    "\n",
    "# definir config\n",
    "#config = [24, 500, 100, 100]\n",
    "config = [[24, 500, 100, 100],[12, 500, 100, 100]]\n",
    "\n",
    "# búsqueda en malla\n",
    "resultados, predicciones = evaluacion_iter(datos, config[1], n_prueba)\n",
    "\n",
    "# resumir resultados\n",
    "resumir_resultados('mlp', resultados)"
   ]
  },
  {
   "cell_type": "markdown",
   "metadata": {},
   "source": [
    "# Mostrar Predicciones"
   ]
  },
  {
   "cell_type": "code",
   "execution_count": null,
   "metadata": {},
   "outputs": [],
   "source": [
    "entreno, prueba = division_entreno_prueba(datos,n_prueba)\n",
    "prediccion = pd.DataFrame(list(entreno.flatten())+np.array(predicciones[0]).flatten().tolist())\n",
    "ax = pd.DataFrame(datos).plot(label=\"Original\") # datos originales\n",
    "prediccion.plot(ax=ax, alpha=.7, figsize=(14,7))\n",
    "plt.show()"
   ]
  },
  {
   "cell_type": "code",
   "execution_count": null,
   "metadata": {},
   "outputs": [],
   "source": []
  }
 ],
 "metadata": {
  "kernelspec": {
   "display_name": "Python 3 (ipykernel)",
   "language": "python",
   "name": "python3"
  },
  "language_info": {
   "codemirror_mode": {
    "name": "ipython",
    "version": 3
   },
   "file_extension": ".py",
   "mimetype": "text/x-python",
   "name": "python",
   "nbconvert_exporter": "python",
   "pygments_lexer": "ipython3",
   "version": "3.11.4"
  }
 },
 "nbformat": 4,
 "nbformat_minor": 4
}
